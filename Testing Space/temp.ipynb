{
 "cells": [
  {
   "cell_type": "code",
   "execution_count": 36,
   "source": [
    "import numpy as np\r\n",
    "import pandas as pd\r\n",
    "import matplotlib.pyplot as plt\r\n",
    "from sklearn.decomposition import PCA\r\n",
    "from sklearn.preprocessing import StandardScaler\r\n",
    "from pathlib import Path"
   ],
   "outputs": [],
   "metadata": {}
  },
  {
   "cell_type": "code",
   "execution_count": 53,
   "source": [
    "working_dir = r\"C:\\Users\\User\\Desktop\\R_PCA\"\r\n",
    "tdTomato_37Degree_file = Path(working_dir) / \"tdTomato_37D_Features_SVMPredicted_23DEC2020.csv\"\r\n",
    "HaloTagKera_37Degree_file = Path(working_dir) / \"HaloTagKera_37D_Features_SVMPredicted_23DEC2020.csv\"\r\n",
    "\r\n",
    "tdTomato_37Degree = pd.read_csv(tdTomato_37Degree_file, sep=\" \")\r\n",
    "HaloTagKera_37Degree = pd.read_csv(HaloTagKera_37Degree_file, sep=\" \")\r\n",
    "\r\n",
    "data = pd.concat([tdTomato_37Degree, HaloTagKera_37Degree])\r\n",
    "\r\n",
    "# these are the feature columns\r\n",
    "mycols = range(3, 10)\r\n",
    "\r\n",
    "scaler = StandardScaler()\r\n",
    "scaler.fit(data.iloc[:, mycols])\r\n",
    "X=scaler.transform(data.iloc[:, mycols])  \r\n",
    "\r\n",
    "# compute PCAs\r\n",
    "pca = PCA(n_components = 7)\r\n",
    "mypca = pca.fit_transform(X)\r\n",
    "\r\n",
    "cols = ['PC1', 'PC2', 'PC3', 'PC4', 'PC5', 'PC6', 'PC7']\r\n",
    "idxn = ['NetDispl', 'Straight', 'Bending', 'Efficiency', 'Asymmetry', 'radiusGyration', 'fracDimension']\r\n",
    "pca_components = pd.DataFrame(pca.components_.T, columns=cols, index=idxn)\r\n",
    "pca_components"
   ],
   "outputs": [
    {
     "output_type": "execute_result",
     "data": {
      "text/plain": [
       "                     PC1       PC2       PC3       PC4       PC5       PC6  \\\n",
       "NetDispl        0.468551  0.146777  0.225270 -0.051755 -0.125337 -0.529466   \n",
       "Straight       -0.416244  0.306969  0.181044  0.269822 -0.602099 -0.430297   \n",
       "Bending         0.233249 -0.649869 -0.201952  0.664905 -0.166411 -0.110670   \n",
       "Efficiency      0.327280  0.251991  0.658508  0.405583 -0.001601  0.468306   \n",
       "Asymmetry       0.166679  0.630003 -0.609043  0.419999  0.150684  0.049990   \n",
       "radiusGyration  0.485232  0.036558  0.032888 -0.153787  0.258972 -0.433261   \n",
       "fracDimension  -0.427143 -0.012559  0.264658  0.343324  0.710141 -0.335765   \n",
       "\n",
       "                     PC7  \n",
       "NetDispl       -0.639881  \n",
       "Straight        0.281515  \n",
       "Bending         0.021021  \n",
       "Efficiency      0.109292  \n",
       "Asymmetry      -0.052702  \n",
       "radiusGyration  0.695485  \n",
       "fracDimension  -0.111523  "
      ],
      "text/html": [
       "<div>\n",
       "<style scoped>\n",
       "    .dataframe tbody tr th:only-of-type {\n",
       "        vertical-align: middle;\n",
       "    }\n",
       "\n",
       "    .dataframe tbody tr th {\n",
       "        vertical-align: top;\n",
       "    }\n",
       "\n",
       "    .dataframe thead th {\n",
       "        text-align: right;\n",
       "    }\n",
       "</style>\n",
       "<table border=\"1\" class=\"dataframe\">\n",
       "  <thead>\n",
       "    <tr style=\"text-align: right;\">\n",
       "      <th></th>\n",
       "      <th>PC1</th>\n",
       "      <th>PC2</th>\n",
       "      <th>PC3</th>\n",
       "      <th>PC4</th>\n",
       "      <th>PC5</th>\n",
       "      <th>PC6</th>\n",
       "      <th>PC7</th>\n",
       "    </tr>\n",
       "  </thead>\n",
       "  <tbody>\n",
       "    <tr>\n",
       "      <th>NetDispl</th>\n",
       "      <td>0.468551</td>\n",
       "      <td>0.146777</td>\n",
       "      <td>0.225270</td>\n",
       "      <td>-0.051755</td>\n",
       "      <td>-0.125337</td>\n",
       "      <td>-0.529466</td>\n",
       "      <td>-0.639881</td>\n",
       "    </tr>\n",
       "    <tr>\n",
       "      <th>Straight</th>\n",
       "      <td>-0.416244</td>\n",
       "      <td>0.306969</td>\n",
       "      <td>0.181044</td>\n",
       "      <td>0.269822</td>\n",
       "      <td>-0.602099</td>\n",
       "      <td>-0.430297</td>\n",
       "      <td>0.281515</td>\n",
       "    </tr>\n",
       "    <tr>\n",
       "      <th>Bending</th>\n",
       "      <td>0.233249</td>\n",
       "      <td>-0.649869</td>\n",
       "      <td>-0.201952</td>\n",
       "      <td>0.664905</td>\n",
       "      <td>-0.166411</td>\n",
       "      <td>-0.110670</td>\n",
       "      <td>0.021021</td>\n",
       "    </tr>\n",
       "    <tr>\n",
       "      <th>Efficiency</th>\n",
       "      <td>0.327280</td>\n",
       "      <td>0.251991</td>\n",
       "      <td>0.658508</td>\n",
       "      <td>0.405583</td>\n",
       "      <td>-0.001601</td>\n",
       "      <td>0.468306</td>\n",
       "      <td>0.109292</td>\n",
       "    </tr>\n",
       "    <tr>\n",
       "      <th>Asymmetry</th>\n",
       "      <td>0.166679</td>\n",
       "      <td>0.630003</td>\n",
       "      <td>-0.609043</td>\n",
       "      <td>0.419999</td>\n",
       "      <td>0.150684</td>\n",
       "      <td>0.049990</td>\n",
       "      <td>-0.052702</td>\n",
       "    </tr>\n",
       "    <tr>\n",
       "      <th>radiusGyration</th>\n",
       "      <td>0.485232</td>\n",
       "      <td>0.036558</td>\n",
       "      <td>0.032888</td>\n",
       "      <td>-0.153787</td>\n",
       "      <td>0.258972</td>\n",
       "      <td>-0.433261</td>\n",
       "      <td>0.695485</td>\n",
       "    </tr>\n",
       "    <tr>\n",
       "      <th>fracDimension</th>\n",
       "      <td>-0.427143</td>\n",
       "      <td>-0.012559</td>\n",
       "      <td>0.264658</td>\n",
       "      <td>0.343324</td>\n",
       "      <td>0.710141</td>\n",
       "      <td>-0.335765</td>\n",
       "      <td>-0.111523</td>\n",
       "    </tr>\n",
       "  </tbody>\n",
       "</table>\n",
       "</div>"
      ]
     },
     "metadata": {},
     "execution_count": 53
    }
   ],
   "metadata": {}
  },
  {
   "cell_type": "code",
   "execution_count": 73,
   "source": [
    "pc_axis = \"PC1\"\r\n",
    "\r\n",
    "fig = plt.figure(figsize=(10,4))\r\n",
    "plt.title(f\"{pc_axis} Loadings\", size=10)\r\n",
    "pca_components[pc_axis].plot(kind='bar', color=(pca_components[pc_axis] > 0).map({True: 'g', False: 'r'}), rot=0)"
   ],
   "outputs": [
    {
     "output_type": "execute_result",
     "data": {
      "text/plain": [
       "<AxesSubplot:title={'center':'PC1 Loadings'}>"
      ]
     },
     "metadata": {},
     "execution_count": 73
    },
    {
     "output_type": "display_data",
     "data": {
      "text/plain": [
       "<Figure size 720x288 with 1 Axes>"
      ],
      "image/png": "[encoded data removed]"
     },
     "metadata": {
      "needs_background": "light"
     }
    }
   ],
   "metadata": {}
  },
  {
   "cell_type": "code",
   "execution_count": null,
   "source": [],
   "outputs": [],
   "metadata": {}
  }
 ],
 "metadata": {
  "orig_nbformat": 4,
  "language_info": {
   "name": "julia"
  }
 },
 "nbformat": 4,
 "nbformat_minor": 2
}